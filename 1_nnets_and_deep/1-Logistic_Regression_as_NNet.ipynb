{
 "cells": [
  {
   "cell_type": "markdown",
   "metadata": {
    "toc": "true"
   },
   "source": [
    "# Table of Contents\n",
    " <p><div class=\"lev1 toc-item\"><a href=\"#Binary-Classification\" data-toc-modified-id=\"Binary-Classification-1\"><span class=\"toc-item-num\">1&nbsp;&nbsp;</span>Binary Classification</a></div><div class=\"lev2 toc-item\"><a href=\"#Set-up\" data-toc-modified-id=\"Set-up-1.1\"><span class=\"toc-item-num\">1.1&nbsp;&nbsp;</span>Set-up</a></div><div class=\"lev2 toc-item\"><a href=\"#Cost-Function\" data-toc-modified-id=\"Cost-Function-1.2\"><span class=\"toc-item-num\">1.2&nbsp;&nbsp;</span>Cost Function</a></div><div class=\"lev2 toc-item\"><a href=\"#Optimization\" data-toc-modified-id=\"Optimization-1.3\"><span class=\"toc-item-num\">1.3&nbsp;&nbsp;</span>Optimization</a></div><div class=\"lev3 toc-item\"><a href=\"#Gradient-descent\" data-toc-modified-id=\"Gradient-descent-1.3.1\"><span class=\"toc-item-num\">1.3.1&nbsp;&nbsp;</span>Gradient descent</a></div><div class=\"lev2 toc-item\"><a href=\"#Forward-and-Backward-propagation\" data-toc-modified-id=\"Forward-and-Backward-propagation-1.4\"><span class=\"toc-item-num\">1.4&nbsp;&nbsp;</span>Forward and Backward propagation</a></div><div class=\"lev2 toc-item\"><a href=\"#Logistic-Reg-as-a-Neural-Net\" data-toc-modified-id=\"Logistic-Reg-as-a-Neural-Net-1.5\"><span class=\"toc-item-num\">1.5&nbsp;&nbsp;</span>Logistic Reg as a Neural Net</a></div><div class=\"lev2 toc-item\"><a href=\"#Forward-propagation-in-python\" data-toc-modified-id=\"Forward-propagation-in-python-1.6\"><span class=\"toc-item-num\">1.6&nbsp;&nbsp;</span>Forward propagation in python</a></div><div class=\"lev2 toc-item\"><a href=\"#Backward-propagation-in-python\" data-toc-modified-id=\"Backward-propagation-in-python-1.7\"><span class=\"toc-item-num\">1.7&nbsp;&nbsp;</span>Backward propagation in python</a></div>"
   ]
  },
  {
   "cell_type": "markdown",
   "metadata": {},
   "source": [
    "# Binary Classification\n",
    "\n",
    "## Set-up\n",
    "\n",
    "Given $\\{ (x_1, y_1), ..., (x_m, y_m) \\}$, where $y \\in \\{0, 1\\}$, we are trying to approximate $P(y | x) = \\hat{y}$.\n",
    "\n",
    "Let's define $$X_{(n_{X}, m)}= \\begin{bmatrix}\n",
    "x_{1,1}&...&x_{m,1}\\\\\n",
    "x_{1,2}&...&x_{m,2}\\\\\n",
    "...&...&...\\\\\n",
    "x_{1, n_X}&...&x_{m, n_X}\\\\\n",
    "\\end{bmatrix}$$\n",
    "\n",
    "And $$y_{(1, m)} = \\begin{bmatrix} y_1 & y_2 & ... & y_m \\\\ \\end{bmatrix}$$\n",
    "\n",
    "That is, for individual vector of features, we stack them as columns and we call the result the overall $X$ and $Y$.\n",
    "\n",
    "Given this, we parametrize our hypothesis as follows:\n",
    "\n",
    "$$\\hat{y} = \\sigma(w^T x + b)$$\n",
    "\n",
    "Where $$\\sigma(z) = \\frac{1}{1+e^{-z}}$$\n",
    "\n",
    "## Cost Function\n",
    "\n",
    "From the maximum likelihood, we get the following loss function (single training example):\n",
    "\n",
    "$$ L(y_i, \\hat{y_i}) = - (y log(\\hat{y}) + (1-y) log(1 - \\hat{y})) $$\n",
    "\n",
    "And the cost function (average loss over training):\n",
    "\n",
    "$$ J(w, b) = \\frac{1}{m} \\sum_{i = 1}^m L(y_i, \\hat{y_i}) $$\n",
    "\n",
    "## Optimization\n",
    "\n",
    "Ok, so we have posted a hypothesis and have a cost function to measure the availability of each possible pair of parameteres. How to find the optimal pair? Gradient descent.\n",
    "\n",
    "### Gradient descent\n",
    "\n",
    "Gradient descent is simple hill climbing. Start somewhere in the mountain, follow the step where the function decreases the most, i.e., gradient's way. Do so till you get to a minimum. \n",
    "\n",
    "In pseudo-code:\n",
    "\n",
    "Repeat { \n",
    "    $$w := w - \\alpha \\frac{\\partial C}{\\partial w}$$\n",
    "    $$b := b - \\alpha \\frac{\\partial C}{\\partial b}$$\n",
    "}\n",
    "\n",
    "Andrew Ng didn't define a stopping criteria. \n",
    "\n",
    "## Forward and Backward propagation\n",
    "\n",
    "Neural Nets are, quite simply, the automation of variable transformation through a multi-step transformation of the input variables. The magic, of course, comes from the fact that the transformations are done to fit the training set. \n",
    "\n",
    "Thus, to compute a prediction with a Neural Network, we must compute multiple intermediate variables from the back to the to top. However, the effect of the initial variable now is muted by the multiple steps in the intermediate variables. Thus, derivative computation is not straightforward. The effect of the input is reflected thorought the network in the computation of all the intermediate variables. \n",
    "\n",
    "Solution? Backward propagation. Start with the immediate last hidden network and the corresponding hidden variable. Compute the derivative with respect to it. Repeat. Repeat till you have computed the derivative with respect to an input variable. The Chain rule simply tells you how to organize these derivatives to compute the derivative of the output variable with respect to the input. \n",
    "\n",
    "## Logistic Reg as a Neural Net\n",
    "\n",
    "Remember: a neural net is simply a transformation-first framework. Just say that the transformation is as follows: \n",
    "\n",
    "$$ z = w^T*X + b $$\n",
    "$$ a = \\sigma (z)$$\n",
    "\n",
    "$$ \\frac{da}{dz} = \\frac{d \\sigma}{dz} $$\n",
    "$$ \\frac{da}{dw} = X \\frac{da}{dz}^T $$\n",
    "$$ \\frac{da}{db} = \\frac{da}{dz} $$\n"
   ]
  },
  {
   "cell_type": "markdown",
   "metadata": {},
   "source": [
    "## Forward propagation in python"
   ]
  },
  {
   "cell_type": "code",
   "execution_count": 93,
   "metadata": {
    "collapsed": false
   },
   "outputs": [],
   "source": [
    "import numpy as np \n",
    "np.random.seed(10)\n",
    "import math\n",
    "# Given X, w, and b.\n",
    "X = np.random.random(size = (3, 10000))\n",
    "w = np.random.random(size = (3, 1))\n",
    "b = 0.03\n",
    "def sigmoid(z):\n",
    "    return 1/(1 + np.exp(-z))\n",
    "# Find out true y\n",
    "Y = sigmoid(np.dot(w.T, X) + b)\n",
    "Y = np.where(Y <= 0.5, 0, 1)"
   ]
  },
  {
   "cell_type": "markdown",
   "metadata": {},
   "source": [
    "## Backward propagation in python"
   ]
  },
  {
   "cell_type": "code",
   "execution_count": 97,
   "metadata": {
    "collapsed": false
   },
   "outputs": [
    {
     "name": "stdout",
     "output_type": "stream",
     "text": [
      "train accuracy: 98.8767651075545 %\n"
     ]
    }
   ],
   "source": [
    "alpha = 0.03\n",
    "iterations = 2000\n",
    "w_hat = np.zeros_like(w)\n",
    "b_hat = 0\n",
    "for x in range(iterations):\n",
    "    # Forward propagation \n",
    "    Z = np.dot(w_hat.T, X) + b_hat\n",
    "    A = sigmoid(Z)\n",
    "    cost = -1/m * np.sum(Y * np.log(A) + (1 - Y)* np.log(1-A)) \n",
    "    #Backward propagation\n",
    "    dZ = A - Y\n",
    "    dw = 1/10000 * (np.dot(X, dZ.T))\n",
    "    db = 1/10000 * (np.sum(dZ))\n",
    "    w_hat = w_hat - alpha * dw\n",
    "    b_hat = b_hat - alpha * db\n",
    "Y_hat = sigmoid(np.dot(w_hat.T, X) + b_hat)\n",
    "print(\"train accuracy: {} %\".format(100 - np.mean(np.abs(Y_hat - Y)) * 100))"
   ]
  },
  {
   "cell_type": "code",
   "execution_count": null,
   "metadata": {
    "collapsed": true
   },
   "outputs": [],
   "source": []
  }
 ],
 "metadata": {
  "anaconda-cloud": {},
  "kernelspec": {
   "display_name": "Python [Root]",
   "language": "python",
   "name": "Python [Root]"
  },
  "language_info": {
   "codemirror_mode": {
    "name": "ipython",
    "version": 3
   },
   "file_extension": ".py",
   "mimetype": "text/x-python",
   "name": "python",
   "nbconvert_exporter": "python",
   "pygments_lexer": "ipython3",
   "version": "3.5.2"
  },
  "latex_envs": {
   "bibliofile": "biblio.bib",
   "cite_by": "apalike",
   "current_citInitial": 1,
   "eqLabelWithNumbers": true,
   "eqNumInitial": 0
  },
  "nav_menu": {},
  "toc": {
   "navigate_menu": true,
   "number_sections": true,
   "sideBar": true,
   "threshold": 6,
   "toc_cell": true,
   "toc_section_display": "block",
   "toc_window_display": true
  }
 },
 "nbformat": 4,
 "nbformat_minor": 0
}
