{
 "cells": [
  {
   "cell_type": "markdown",
   "metadata": {
    "deletable": true,
    "editable": true,
    "toc": "true"
   },
   "source": [
    "# Table of Contents\n",
    " <p><div class=\"lev1 toc-item\"><a href=\"#Why-bother-going-deep?\" data-toc-modified-id=\"Why-bother-going-deep?-1\"><span class=\"toc-item-num\">1&nbsp;&nbsp;</span>Why bother going deep?</a></div><div class=\"lev2 toc-item\"><a href=\"#Complex-transformations\" data-toc-modified-id=\"Complex-transformations-1.1\"><span class=\"toc-item-num\">1.1&nbsp;&nbsp;</span>Complex transformations</a></div><div class=\"lev2 toc-item\"><a href=\"#Circuit-Theory\" data-toc-modified-id=\"Circuit-Theory-1.2\"><span class=\"toc-item-num\">1.2&nbsp;&nbsp;</span>Circuit Theory</a></div><div class=\"lev1 toc-item\"><a href=\"#Hyperparameters\" data-toc-modified-id=\"Hyperparameters-2\"><span class=\"toc-item-num\">2&nbsp;&nbsp;</span>Hyperparameters</a></div>"
   ]
  },
  {
   "cell_type": "markdown",
   "metadata": {
    "deletable": true,
    "editable": true
   },
   "source": [
    "# Why bother going deep?\n",
    "\n",
    "## Complex transformations\n",
    "\n",
    "Remember that the gist of a neural network is the possibility of multiple and complex transformations of the inputs, all in a data-driven manner. With one layer, the outputs are not transformed at all, and thus the ability of the algorithm to recognize useful information and use it to improve prediction is low. However, as the number of layers increases, so it does the ability to do complex transformations and finding valuable information to improve the accuracy of our predictions. \n",
    "\n",
    "## Circuit Theory\n",
    "\n",
    "Deep neural networks require a much lower number of nodes per layer than shallow neural networks to approximate some functions. \n",
    "\n",
    "# Hyperparameters\n",
    "\n",
    "Parameters that determine the learning but are not learned in the algorithm. Instead, they are set by you. For example:\n",
    "\n",
    "    - # of hidden layers.\n",
    "    - # of units in hidden layers.\n",
    "    - Choice of activation function by layer.\n",
    "    - Learning rate in gradient descent.\n",
    "    - # of iterations in gradient descent.\n",
    "    \n",
    "Try out different values, evaluate in validation set, and then evaluate generalizable error. "
   ]
  },
  {
   "cell_type": "code",
   "execution_count": null,
   "metadata": {
    "collapsed": true,
    "deletable": true,
    "editable": true
   },
   "outputs": [],
   "source": []
  }
 ],
 "metadata": {
  "anaconda-cloud": {},
  "kernelspec": {
   "display_name": "Python [Root]",
   "language": "python",
   "name": "Python [Root]"
  },
  "language_info": {
   "codemirror_mode": {
    "name": "ipython",
    "version": 3
   },
   "file_extension": ".py",
   "mimetype": "text/x-python",
   "name": "python",
   "nbconvert_exporter": "python",
   "pygments_lexer": "ipython3",
   "version": "3.5.2"
  },
  "latex_envs": {
   "bibliofile": "biblio.bib",
   "cite_by": "apalike",
   "current_citInitial": 1,
   "eqLabelWithNumbers": true,
   "eqNumInitial": 0
  },
  "nav_menu": {},
  "toc": {
   "navigate_menu": true,
   "number_sections": true,
   "sideBar": true,
   "threshold": 6,
   "toc_cell": true,
   "toc_section_display": "block",
   "toc_window_display": true
  }
 },
 "nbformat": 4,
 "nbformat_minor": 0
}
